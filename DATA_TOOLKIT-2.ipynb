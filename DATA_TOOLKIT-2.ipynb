{
  "nbformat": 4,
  "nbformat_minor": 0,
  "metadata": {
    "colab": {
      "provenance": []
    },
    "kernelspec": {
      "name": "python3",
      "display_name": "Python 3"
    },
    "language_info": {
      "name": "python"
    }
  },
  "cells": [
    {
      "cell_type": "markdown",
      "source": [
        "#DATA TOOLKIT\n",
        "\n",
        "#theoritical\n",
        "\n"
      ],
      "metadata": {
        "id": "KHi5JWvCOIAe"
      }
    },
    {
      "cell_type": "markdown",
      "source": [
        "Q-1 WHAT IS NUMPY AND WHY IT IS WIDELY USED IN PYTHON?\n",
        "\n",
        "A-1 Numpy is a fundamental library in python for scientific computing.it offers powerful features for working with multidimensional arrays and performing various mathematical operations efficiently.\n",
        "     \n",
        "    ADVANTAGE:\n",
        "     \n",
        " Numpy is deal for handling large amounts of homogeneous data, offering significant improvements in speed and memory efficiency . it also provides high level syntax for a wide range of numerical operations , making it powerful tool for scientific computing and data processing on CPU.\n",
        "\n",
        "     \n",
        "     NUMPY IS WIDELY USED:\n",
        "\n",
        "    1. EFFICIENCY: numpy array-based approach and vectorized operations make it much faster than working with python lists.\n",
        "\n",
        "    2. CONVENIENCE: numpy provides a simple and intutive API for working with arrays and mathematical operations.\n",
        "\n",
        "    3. INTEROPERABILITY: numpy integrates well with other popular python libraries for data analysis, machine learning and scientific computation."
      ],
      "metadata": {
        "id": "0BCOt8cxOGvu"
      }
    },
    {
      "cell_type": "markdown",
      "source": [
        "Q-2 HOW DOES BROADCASTING WORK IN NUMPY?\n",
        "\n",
        "A-2 Broadcasting is a way to allign array with different shapes so that they can be operated on element-wise. its like stretching or repeating the arrays to match each other's shape.\n",
        "\n",
        "WORKING:\n",
        "\n",
        "1. COMPARE SHAPES: Numpy compared the shapes of the two arrays from right to left.\n",
        "\n",
        "2. match or stretch: if the shapes match in a particular axis, numpy performs the operation element wise. if the shapes don't match , numpy tries to stretch the array with the smaller shape to match the larger shape.\n",
        "\n",
        "3. singleton dimensions: If one array has singleton  dimensions , numpy can stretch it to match the corresponding dimension of the other array.\n",
        "\n",
        "4. add singleton dimensions: if one array has fewer dimensions that the other , numpy adds singleton dimensions to the left of the array with the fewer dimensions."
      ],
      "metadata": {
        "id": "zO6nVg_yOsHX"
      }
    },
    {
      "cell_type": "markdown",
      "source": [
        "Q-3 WHAT IS A PANDAS DATAFRAME?\n",
        "\n",
        "A-3 Pandas dataframe is a two-dimensional,size-mutable and potentially heterogeneous tabular data structure in python. it is similar to an Excel spreadsheet or a table in relational database."
      ],
      "metadata": {
        "id": "AnwXBEvvOxhg"
      }
    },
    {
      "cell_type": "markdown",
      "source": [
        "Q-4 EXPLAIN THE USE OF THE groupby() METHOD IN PANDAS?\n",
        "\n",
        "A-4 the groupby() method in pandas is used to group a dataframe by one or more columns and perform aggregation operations on the grouped data.\n",
        "\n",
        "1. Aggregates data and reshapes it.\n",
        "\n",
        "2. splits the data into group based on some criteria\n",
        "\n",
        "3. applies a function to each group independently\n",
        "\n",
        "4. combines the results."
      ],
      "metadata": {
        "id": "AJafXflwO2PR"
      }
    },
    {
      "cell_type": "markdown",
      "source": [
        "Q-5 WHY IS SEABORN PREFFERED FOR STATISTICAL VISUALIZATTIONS?\n",
        "\n",
        "A-5 some reasons why seaborn is preffered:\n",
        "\n",
        "1. high level interface: it provides a high level interface for creating informative and attractive statistical graphics. it abstracts away many of the low-level details , making it easier to create complex visualisation\n",
        "\n",
        "2. integration with matplotlib: seaborn is built on top of matplotlib, which means that you can leverage the strength of both libraries .\n",
        "\n",
        "3. attractive visualisations: seaborn's default styleas and color palattes are designed to produce visually appealing graphics.\n",
        "\n",
        "4. statistical graphics: it provides a range of statistical graphics , including boxplots, violin plots, and regrssion plots which  are essential for exploratory data analysis and statistical modelling.\n",
        "\n",
        "5. easy to use: it is designed to be intutive and easy to use, making it accessible to users with varying levels of experience in data visualizations.\n",
        "\n"
      ],
      "metadata": {
        "id": "6ywSsLroPFN9"
      }
    },
    {
      "cell_type": "markdown",
      "source": [
        "Q-6 WHAT ARE THE DIFFERENCES BETWEEN NUMPY ARRAYS AND PYTHON LISTS?\n",
        "\n",
        "A-6 Numpy arrays and python lists are both data structures used to store and manuplate data in python.\n",
        "\n",
        " 1. HOMOGENEOUS VS HETROGENEOUS:\n",
        "\n",
        " NUMPY ARRAY: homogeneous, meaning all the elements of the same type.\n",
        "\n",
        " PYTHON LISTS: heterogeneous, meaning elements can be of different types.\n",
        "\n",
        " 2. MEMORY AND PERFORMANCE:\n",
        "\n",
        " NUMPY ARRAY: more memory, efficient and faster for numerical computation due to their homogeneous nature and contigous memory allocation.\n",
        "\n",
        " PYTHON LISTS: less memory effecient and slower for numerical computation due to their heterogeneous nature and dynamic memory allocation.\n",
        "\n",
        " 3. OPERATIONS AND METHODS:\n",
        "\n",
        " NUMPY ARRAYS: support vectorized operations.\n",
        "\n",
        " PYTHON LISTS: support various methods like aooend, insert and remove\n",
        "\n",
        " 4. DIMENSIONALITY:\n",
        "\n",
        " NUMPY ARRAY: can be multi-dimensional making then suitable for representing matrices and tensors\n",
        "\n",
        " PYTHON LISTS:  can also be nested to represent multi-dimensional data but this can be less efficient and more cumbersome than using numpy arrays.\n",
        "\n",
        "\n"
      ],
      "metadata": {
        "id": "IEcMaSMMPQbc"
      }
    },
    {
      "cell_type": "markdown",
      "source": [
        "Q-7 WHAT IS HEATMAP , AND WHEN SHOULD IT BE USED?\n",
        "\n",
        "A-7 A heatmap is a graphical representation of data where values are depicted by color . it is a 2D representation of data that uses color to convey the magnitude of the values.\n",
        "\n",
        "WHEN TO USE HEATMAP:\n",
        "\n",
        "1. VISUALIZING CORRELATIONS: It ia used for visualiuzing correlation matrices ,where the color represents the strength and direction of the correlation between variables.\n",
        "\n",
        "2. SHOWING PATTERNS AND TRENDS: It can help identify patterns and trends in data such as clusters, outliers, or relationships between variables.\n",
        "\n",
        "3. DISPLAYING DENSITY OR FREQUENCY: IT is used to display density or frequency of data points in data space.\n",
        "\n",
        "4. COMPARING CATEGORICAL DATA: it can be used to compare categorical data across different groups or categories."
      ],
      "metadata": {
        "id": "fd7RHbtUPYyz"
      }
    },
    {
      "cell_type": "markdown",
      "source": [
        "Q-8 WHAT DOES THE TERM \"vectorized operation\" MEANS IN NUMPY?\n",
        "\n",
        "A-8 In numpy, vectorized operations refer to the ability to perform operations on entire array at once, without the need for explicit loops. this is achieved by applying opearations element wise to the arrays, which makes it much faster and more efficient than using python loops."
      ],
      "metadata": {
        "id": "jaQ298DLPgR-"
      }
    },
    {
      "cell_type": "markdown",
      "source": [
        "Q-9 HOW DOES matplotib DIFFER FROM plotly?\n",
        "\n",
        "A-9 MATPLOTLIB:\n",
        "\n",
        "1. STATIC VISUALIZATION: Matplotib is primarily used for creating static visualizations such as plots,charts,graphs.\n",
        "\n",
        "2. LOW LEVEL CONTROL: IT provides  a high degree of control over the visualization , allowing users to customize every aspects of the plot.\n",
        "\n",
        "3. 2D AND 3D PLOTTING: It supports both type of plotting making it a versatile library\n",
        "\n",
        "4. MATURITY AND COMMUNITY: It is a mature library with a large and active community.\n",
        "\n",
        "PLOTLY:\n",
        "\n",
        "1. INTERACTIVE VISUALIZATION: plotly is designed to create interactive visualisations, allowing users to hover over data points, zoom in and out and pan across the plot\n",
        "\n",
        "2. WEB BASED VISUALIZATIONS: Plotly visualizations can be easily shared and embeded in web applications, making it a great choice for data exploration and presentation\n",
        "\n",
        "3. 3D PLOTTING: It supports 3D plotting and provide a large range of tools\n",
        "\n",
        "4. INTEGRATION WITH OTHER LIBRARIES:  it integrates well with other popular data science libraries , such as pandas and Scikit learn"
      ],
      "metadata": {
        "id": "F6aUMlBePqO5"
      }
    },
    {
      "cell_type": "markdown",
      "source": [
        "Q-10 WHAT IS THE SIGNIFICANCE OF HIERARCHIAL INDEXING IN PANDAS?\n",
        "\n",
        "A-10 It is a powerful feature in pandas that allows you to have multiple levels of indexing on a single axis. This enables you to store anad manipulate data with complex structures, such as data with complex structures, such as data with multiple categories or dimensions.\n",
        "\n",
        "SIGNIFICANCE:\n",
        "\n",
        "1. DATA ORGANIZATION: It allows you to organize data in a more structured and meaningful way making it easier to access\n",
        "\n",
        "2. DATA ANALYSIS: You can perform data analysis and aggregation opeartion on specific levels of the index which can be useful for data exploration and insight generation\n",
        "\n",
        "3. DATA SELECTION: It enables you to select data based onspecific conditions or criteria which can be useful for data filtering and subsetting\n",
        "\n",
        "4. DATA RESHAPING: It helps in reshaping data from wide format to long format or vice versa , which can be useful for data transformation and preperation."
      ],
      "metadata": {
        "id": "2cktJjfPP1l9"
      }
    },
    {
      "cell_type": "markdown",
      "source": [
        "Q-11 WHAT IS THE ROLE OF SEABORN'S PAIRPLOT() FUNCTIONS?\n",
        "\n",
        "A-11 Seaborn's pairplot() function ia a powerful visualizations tool that creates a matrix of pairwise scatter plots and histograms to display the relationships btween multiple variable in dataset.\n",
        "\n",
        "role of pairplot()\n",
        "\n",
        "1. VISUALIZING RELATIONSHIPS\n",
        "\n",
        "2. PAIRWISE COMPARISOIONS\n",
        "\n",
        "3. HISTOGRAMS AND DENSITY\n",
        "\n",
        "4. CATEGORICAL VARIABLES"
      ],
      "metadata": {
        "id": "2wzl0m0aP_9G"
      }
    },
    {
      "cell_type": "markdown",
      "source": [
        "Q-12 WHAT IS THE PURPOSE OF THE DESCRIBE() FUNCTION IN PANDAS?\n",
        "\n",
        "A-12 The  describe() function in pandas is used to generate a summary of the central tendency, dispersion and sgape of a dataset's distribution.\n",
        "\n",
        "PURPOSE:\n",
        "\n",
        "1. summary statistics\n",
        "\n",
        "2. data exploration\n",
        "\n",
        "3. data quality check"
      ],
      "metadata": {
        "id": "0maFkr2rQJqH"
      }
    },
    {
      "cell_type": "markdown",
      "source": [
        "Q-13 WHY IS HANDLING MISSING DATA IMPORTANT IN PANDAS?\n",
        "\n",
        "A-13  Handling  missing data is an essential step in data processing in pamdas, missing data is represented as NaN( Not a Number) or None. It is important because it directly impacts the accuracy and reliability of data analysis. It helps in preserving data integrity."
      ],
      "metadata": {
        "id": "0tiowMVQQUR_"
      }
    },
    {
      "cell_type": "markdown",
      "source": [
        "Q-14 WHAT ARE THE BENEFITS OF USING PLOTLY OF DATA VISUALIZATION?\n",
        "\n",
        "A-14 BENEFITS:\n",
        "\n",
        "1. INTERACTIVITY: it helps user to create interactive visualisation that hepls to analyse data in more engaging way\n",
        "\n",
        "2. DYNAMIC VISUALIZATIONS: It can be dynamic, allowing users to hover over data points, zoom in and out and pan across the plot.\n",
        "\n",
        "3. WEB BASED VISUALIZATIONS: it can be easily shared and embeded in web applications making it a great choice for data presentation and exploration.\n",
        "\n",
        "4. 3D PLOTTING: It supports 3D plotting , enabling users to create complex and interactive 3D visualizations\n",
        "\n",
        "5. CUSTOMIZATION: it offers a range of customization options, allowing users to tailor their visualizations to their specific needs\n",
        "\n",
        "6. INTEGRATION WITH OTHERS: It integrates well with others popular data\n",
        "\n",
        "7. LARGE COMMUNITY: It has a large and active community which means there are many resources available for learning."
      ],
      "metadata": {
        "id": "gAHeZ-jpQcDX"
      }
    },
    {
      "cell_type": "markdown",
      "source": [
        "Q-15 HOW DOES NUMPY HANDLE MULTIDIMENSIONAL ARRAYS?\n",
        "\n",
        "A-15 Numpy is a powerful library for numerical computing in python and it provides an efficient way to handle multidimensional array:\n",
        "\n",
        "1. N- DIMENSIONAL ARRAY: numpy supports array with any number of dimension allowing you to represent complex data structures.\n",
        "\n",
        "2. ARRAY INDEXING: it provides a flexible indexing system , enabling you to access amnd manipulate specific elements or subsets of elements in multidimensional arrays\n",
        "\n",
        "3. ARRAY SLICING: Slicing feature allows you to extract subsets of elements\n",
        "\n",
        "4. ARRAY RESHAPING: IT  reshapes functions enables you to change the shape of multidimensional array without modifying its data\n",
        "\n",
        "5. ARRAY BROADCASTING: This feature allows you to perform operations on array with different size and shapes"
      ],
      "metadata": {
        "id": "DiGzYRrpQjRw"
      }
    },
    {
      "cell_type": "markdown",
      "source": [
        "Q-16 WHAT IS THE ROLE OF BOKEH IN DATA VISUALIZATION?\n",
        "\n",
        "A-16 Bokeh is a poweful data visualisation library with python that provides a high level interface for creating interactive plots , dashboards and data applications.\n",
        "\n"
      ],
      "metadata": {
        "id": "AomPIjRRQrIQ"
      }
    },
    {
      "cell_type": "markdown",
      "source": [
        "Q-17 EXPALIN THE DIFFERENCE BETWEEN apply() AND map() IN PANDAS?\n",
        "\n",
        "A-17 APPLY()\n",
        "\n",
        "1. FUNCTION APPLICATION: applies a function to each row and column of a dataframe\n",
        "\n",
        "2. FLEXIBLE FUNCTIONS: the function can be any valid function including lambda, custom or built-in function\n",
        "\n",
        "3. ROW OR COLUMN WISE: can opearte on rows or columns depending on axis parameter\n",
        "\n",
        "MAP()\n",
        "\n",
        "1. ELEMENT WISE OPERATION: applies a function element wise to a series replacing each element with the result of the function\n",
        "\n",
        "2. DICTIONARY OR FUNCTION: can take a dictionary or function as a input\n",
        "\n",
        "3. SERIES ONLY: it is primarly used with series not DataFrames"
      ],
      "metadata": {
        "id": "nbX1AN8wQxTd"
      }
    },
    {
      "cell_type": "markdown",
      "source": [
        "Q-18 WHAT ARE SOME ADVANDCED FEATURES IN NUMPY?\n",
        "\n",
        "A-18\n",
        "1. BROADCASTING: This feature allows you to perform operations on array with different shapes and size.\n",
        "\n",
        "2. VECTORIZED OPERATION: It enable you to perform opeartion on entire array AT ONCE, REDUCING NEEDS FOR LOOPS\n",
        "\n",
        "3. LINEAR ALGEBRA OPERATIONS: it provides an extensive range of linear algebra operations including matrix multiplication etc\n",
        "\n",
        "4. ARRAY INDEXING AND SLICING: this feature enables you to access and manipulate specific elements or subsets of elements in arrays\n",
        "\n",
        "5. ARRAY RESHAPING AND TRANSPOSITION: This feature enables you to change the shape and layout of arrays\n",
        "\n",
        "6. UNIVERSAL FUNCTIONS: This function operates element wise on array providing away to perform compex operations\n",
        "\n",
        "7. RANDOM NUMBER GENERATION: it offers a variety  of random numberr generators including uniform, normal, binomial distributions"
      ],
      "metadata": {
        "id": "ZoOgHg7QQ8k1"
      }
    },
    {
      "cell_type": "markdown",
      "source": [
        "Q-19 HOW DOES PANDAS SIMPLIFY TIME SERIES ANALYSIS?\n",
        "\n",
        "A-19\n",
        "1. DataTimeIndex: it allows you to create a datatime- based index for your time series data\n",
        "\n",
        "2. TIME SERIES RESAMPLING: it provides you a resample function that allows you to resample your time series data to a different frequency\n",
        "\n",
        "3. TIME SERIES ROLLING AND EXPANDING WINDOWS: this allows you to perform calculations on a moving window of data\n",
        "\n",
        "4. TIME SERIES SHIFTING AND LAGGING: It provides you shift and lag functions that allows you to shift or lag your time series data\n",
        "\n",
        "5. TIME SERIES AGGREGATION: pandas provide various aggregation functions, such as mean, sum and max that allow you to aggregate your time series data."
      ],
      "metadata": {
        "id": "VofViMEDRFUZ"
      }
    },
    {
      "cell_type": "markdown",
      "source": [
        "Q-20 WHAT IS THE ROLE OF PIVOT TABLE IN PANDAS?\n",
        "\n",
        "A-20 A pivot table is a powerful data summarization tool in pandas that allow you to rotate and aggregate data from a DataFrame."
      ],
      "metadata": {
        "id": "O6ngmrE0RMav"
      }
    },
    {
      "cell_type": "markdown",
      "source": [
        "Q-21 WHY IS NUMPY ARRAY SLICING FASTER THAN PYTHON'S LIST SLICING?\n",
        "\n",
        "A-21\n",
        "1. MEMORY LAYOUT: numpy stores data in contigous block of memory which allows for effecient memory access and caching. python list stores data in non- contigous memory location leading to slower memory access\n",
        "\n",
        "2. VECTORIZED OPERATIONS: Numpy supports vectorized operations which enables operation to be performed on entire array at once . python list on other hand require loop to perform operation on each element\n",
        "\n",
        "3. NATIVE CODE: numpy is written in C which is low level compiled language making operations faster than python\n",
        "\n",
        "4. LESS OVERHEAD: numpy array have less overhead compared to python compared to python list . numpy array do not store metedata like python lists do, which reduces memory usage and improves performance."
      ],
      "metadata": {
        "id": "bKQq0VkVRWXG"
      }
    },
    {
      "cell_type": "markdown",
      "source": [
        "Q-22 WHAT ARE SOME COMMON USE CASES FOR SEABORN?\n",
        "\n",
        "A-22\n",
        "1. EXPLORATORY DATA ANALYSIS: It is useful for exploratory data analysis, allowing you to visualize and understand the distribution of variable and patterns in data\n",
        "\n",
        "2. DATA VISUALIZATION:  it provides a range of visualization tools including scatterplots, barplots, boxplots and heatmaps that can be used to communicate insight and findings to stakeholders\n",
        "\n",
        "3. STATISTICAL GRAPHICS: IT is particularly used for creating statistical graphics such as regrssion plots and Q-Q plots, that can be used to visualize and diagnose statistical model\n",
        "\n",
        "4. DATA STORYTELLING: IT can be used to create informative and engaging nisualizations that tell a story about the data , making it easier to communicate insights and findings to non- technical stakeholders\n",
        "\n",
        "5. REASERCH AND ACADEMIA: IT is widely used in research and academia for creating publication- quality visualization and for exploring and analysing complex data."
      ],
      "metadata": {
        "id": "Vo-NxE4dRg7v"
      }
    },
    {
      "cell_type": "markdown",
      "source": [
        "#practical"
      ],
      "metadata": {
        "id": "iqPG0xyG7w_R"
      }
    },
    {
      "cell_type": "markdown",
      "source": [
        "  Q-1 HOW DO YOU CREATE A 2D NUMPY ARRAY AND CALCULATE THE SUM OF EACH ROW?\n",
        "  "
      ],
      "metadata": {
        "id": "e1aWGspQ7znP"
      }
    },
    {
      "cell_type": "code",
      "source": [],
      "metadata": {
        "id": "Cl6eXAQgFhB0"
      },
      "execution_count": null,
      "outputs": []
    },
    {
      "cell_type": "code",
      "source": [
        "import numpy as np\n",
        "a = []\n",
        "for i in range(3):\n",
        "  b = []\n",
        "  for j in range(3):\n",
        "    j = int(input(\"enter number in pocket [\"+str(i)+\"][\"+str(j)+\"]\"))\n",
        "    b.append(j)\n",
        "  a.append(b)\n",
        "a=np.array(a)\n",
        "print(\"matrix is ......\")\n",
        "for i in range(3):\n",
        "  for j in range(3):\n",
        "    print(a[i] [j], end = \" \")\n",
        "  print()\n",
        "print(np.sum(a,axis=1))\n",
        "print(np.sum(a,axis=0))"
      ],
      "metadata": {
        "colab": {
          "base_uri": "https://localhost:8080/"
        },
        "id": "7RBfmjUUC3W2",
        "outputId": "2c8a863e-da08-476e-c93a-403be56dc83e"
      },
      "execution_count": 5,
      "outputs": [
        {
          "output_type": "stream",
          "name": "stdout",
          "text": [
            "enter number in pocket [0][0]1\n",
            "enter number in pocket [0][1]2\n",
            "enter number in pocket [0][2]3\n",
            "enter number in pocket [1][0]4\n",
            "enter number in pocket [1][1]5\n",
            "enter number in pocket [1][2]6\n",
            "enter number in pocket [2][0]7\n",
            "enter number in pocket [2][1]8\n",
            "enter number in pocket [2][2]9\n",
            "matrix is ......\n",
            "1 2 3 \n",
            "4 5 6 \n",
            "7 8 9 \n",
            "[ 6 15 24]\n",
            "[12 15 18]\n"
          ]
        }
      ]
    },
    {
      "cell_type": "markdown",
      "source": [
        "Q-2 WRITE A PANDAS SCRIPT TO FIND THE MEAN OF A SPECIFIC COLUMN IN A DataFrame?\n"
      ],
      "metadata": {
        "id": "W4ZTxmDOALwH"
      }
    },
    {
      "cell_type": "code",
      "source": [
        "import pandas as pd\n"
      ],
      "metadata": {
        "id": "dtMpqv2PHfPX"
      },
      "execution_count": 8,
      "outputs": []
    },
    {
      "cell_type": "code",
      "source": [
        "data = [['A', 2,1],['A' , 4,2],['B' , 2,3]]\n",
        "df = pd.DataFrame(data, columns = ['category', 'score' , 'priority'])\n",
        "print(df)\n",
        "results_df = df.groupby('category',as_index=False).mean()\n",
        "print(results_df)"
      ],
      "metadata": {
        "colab": {
          "base_uri": "https://localhost:8080/"
        },
        "id": "VHnD12bnIrUv",
        "outputId": "c6cc8f05-3342-484b-a0b4-2d7e38fdb5bb"
      },
      "execution_count": 12,
      "outputs": [
        {
          "output_type": "stream",
          "name": "stdout",
          "text": [
            "  category  score  priority\n",
            "0        A      2         1\n",
            "1        A      4         2\n",
            "2        B      2         3\n",
            "  category  score  priority\n",
            "0        A    3.0       1.5\n",
            "1        B    2.0       3.0\n"
          ]
        }
      ]
    },
    {
      "cell_type": "markdown",
      "source": [
        "Q-3 CREATE A SCATTER PLOT USING MATPLOTLIB?"
      ],
      "metadata": {
        "id": "d_QupXuSAW2g"
      }
    },
    {
      "cell_type": "code",
      "source": [
        "import numpy as np"
      ],
      "metadata": {
        "id": "mmO8jPU8J1vQ"
      },
      "execution_count": 13,
      "outputs": []
    },
    {
      "cell_type": "code",
      "source": [
        "import matplotlib.pyplot as plt\n",
        "x = np.random.rand(50)\n",
        "y = np.random.rand(50)\n",
        "plt.scatter(x,y, c = 'red' , marker='x', s = 100)\n",
        "plt.show()"
      ],
      "metadata": {
        "colab": {
          "base_uri": "https://localhost:8080/",
          "height": 430
        },
        "id": "-aCfvrzaKkgK",
        "outputId": "d2cd3c6a-bd22-4652-c5d7-4a1578ce0042"
      },
      "execution_count": 14,
      "outputs": [
        {
          "output_type": "display_data",
          "data": {
            "text/plain": [
              "<Figure size 640x480 with 1 Axes>"
            ],
            "image/png": "[encoded data removed]"
          },
          "metadata": {}
        }
      ]
    },
    {
      "cell_type": "markdown",
      "source": [
        "Q-4 HOW DO YOU CALCULATE THE CORRELATION MATRIX USING SEABORN AND VISUALIZE IT WITH A HEATMAP?"
      ],
      "metadata": {
        "id": "5q3j1dGbAd1M"
      }
    },
    {
      "cell_type": "code",
      "source": [
        "import pandas as pd\n",
        "import seaborn as sns\n",
        "import matplotlib.pyplot as plt\n"
      ],
      "metadata": {
        "id": "gMfQiSARLK1R"
      },
      "execution_count": 15,
      "outputs": []
    },
    {
      "cell_type": "code",
      "source": [],
      "metadata": {
        "id": "6OgKiSFby_Ag"
      },
      "execution_count": null,
      "outputs": []
    },
    {
      "cell_type": "markdown",
      "source": [
        "Q-5 GENERATE A BAR PLOT USING PLOTLY?"
      ],
      "metadata": {
        "id": "OXe5eRlyAn13"
      }
    },
    {
      "cell_type": "code",
      "source": [
        "import plotly.express as px\n",
        "import pandas as pd"
      ],
      "metadata": {
        "id": "oNskh5-ezGkG"
      },
      "execution_count": 18,
      "outputs": []
    },
    {
      "cell_type": "code",
      "source": [
        "data = {\n",
        "    'category':['A', 'B' ,'A' ,'C' ,'B' , 'A' ,'C','C' ,'B','A']\n",
        "}\n",
        "df = pd.DataFrame(data)\n",
        "category_counts = df['category'].value_counts()\n"
      ],
      "metadata": {
        "id": "O_skosp_2-XN"
      },
      "execution_count": 19,
      "outputs": []
    },
    {
      "cell_type": "code",
      "source": [
        "fig= px.bar(\n",
        "     x=category_counts.index,\n",
        "     y=category_counts.values,\n",
        "     labels={'x':'category' , 'y': 'count'},\n",
        "     title='category counts'\n",
        ")\n",
        "fig.show()"
      ],
      "metadata": {
        "colab": {
          "base_uri": "https://localhost:8080/",
          "height": 542
        },
        "id": "ZsjE7o5U3yCN",
        "outputId": "45f449c0-cc07-4b7f-bfba-4955f445ca69"
      },
      "execution_count": 20,
      "outputs": [
        {
          "output_type": "display_data",
          "data": {
            "text/html": [
              "<html>\n",
              "<head><meta charset=\"utf-8\" /></head>\n",
              "<body>\n",
              "    <div>            <script src=\"https://cdnjs.cloudflare.com/ajax/libs/mathjax/2.7.5/MathJax.js?config=TeX-AMS-MML_SVG\"></script><script type=\"text/javascript\">if (window.MathJax && window.MathJax.Hub && window.MathJax.Hub.Config) {window.MathJax.Hub.Config({SVG: {font: \"STIX-Web\"}});}</script>                <script type=\"text/javascript\">window.PlotlyConfig = {MathJaxConfig: 'local'};</script>\n",
              "        <script charset=\"utf-8\" src=\"https://cdn.plot.ly/plotly-2.35.2.min.js\"></script>                <div id=\"26e7b17a-d1b2-4b77-8044-05b50176e2dc\" class=\"plotly-graph-div\" style=\"height:525px; width:100%;\"></div>            <script type=\"text/javascript\">                                    window.PLOTLYENV=window.PLOTLYENV || {};                                    if (document.getElementById(\"26e7b17a-d1b2-4b77-8044-05b50176e2dc\")) {                    Plotly.newPlot(                        \"26e7b17a-d1b2-4b77-8044-05b50176e2dc\",                        [{\"alignmentgroup\":\"True\",\"hovertemplate\":\"category=%{x}\\u003cbr\\u003ecount=%{y}\\u003cextra\\u003e\\u003c\\u002fextra\\u003e\",\"legendgroup\":\"\",\"marker\":{\"color\":\"#636efa\",\"pattern\":{\"shape\":\"\"}},\"name\":\"\",\"offsetgroup\":\"\",\"orientation\":\"v\",\"showlegend\":false,\"textposition\":\"auto\",\"x\":[\"A\",\"B\",\"C\"],\"xaxis\":\"x\",\"y\":[4,3,3],\"yaxis\":\"y\",\"type\":\"bar\"}],                        {\"template\":{\"data\":{\"histogram2dcontour\":[{\"type\":\"histogram2dcontour\",\"colorbar\":{\"outlinewidth\":0,\"ticks\":\"\"},\"colorscale\":[[0.0,\"#0d0887\"],[0.1111111111111111,\"#46039f\"],[0.2222222222222222,\"#7201a8\"],[0.3333333333333333,\"#9c179e\"],[0.4444444444444444,\"#bd3786\"],[0.5555555555555556,\"#d8576b\"],[0.6666666666666666,\"#ed7953\"],[0.7777777777777778,\"#fb9f3a\"],[0.8888888888888888,\"#fdca26\"],[1.0,\"#f0f921\"]]}],\"choropleth\":[{\"type\":\"choropleth\",\"colorbar\":{\"outlinewidth\":0,\"ticks\":\"\"}}],\"histogram2d\":[{\"type\":\"histogram2d\",\"colorbar\":{\"outlinewidth\":0,\"ticks\":\"\"},\"colorscale\":[[0.0,\"#0d0887\"],[0.1111111111111111,\"#46039f\"],[0.2222222222222222,\"#7201a8\"],[0.3333333333333333,\"#9c179e\"],[0.4444444444444444,\"#bd3786\"],[0.5555555555555556,\"#d8576b\"],[0.6666666666666666,\"#ed7953\"],[0.7777777777777778,\"#fb9f3a\"],[0.8888888888888888,\"#fdca26\"],[1.0,\"#f0f921\"]]}],\"heatmap\":[{\"type\":\"heatmap\",\"colorbar\":{\"outlinewidth\":0,\"ticks\":\"\"},\"colorscale\":[[0.0,\"#0d0887\"],[0.1111111111111111,\"#46039f\"],[0.2222222222222222,\"#7201a8\"],[0.3333333333333333,\"#9c179e\"],[0.4444444444444444,\"#bd3786\"],[0.5555555555555556,\"#d8576b\"],[0.6666666666666666,\"#ed7953\"],[0.7777777777777778,\"#fb9f3a\"],[0.8888888888888888,\"#fdca26\"],[1.0,\"#f0f921\"]]}],\"heatmapgl\":[{\"type\":\"heatmapgl\",\"colorbar\":{\"outlinewidth\":0,\"ticks\":\"\"},\"colorscale\":[[0.0,\"#0d0887\"],[0.1111111111111111,\"#46039f\"],[0.2222222222222222,\"#7201a8\"],[0.3333333333333333,\"#9c179e\"],[0.4444444444444444,\"#bd3786\"],[0.5555555555555556,\"#d8576b\"],[0.6666666666666666,\"#ed7953\"],[0.7777777777777778,\"#fb9f3a\"],[0.8888888888888888,\"#fdca26\"],[1.0,\"#f0f921\"]]}],\"contourcarpet\":[{\"type\":\"contourcarpet\",\"colorbar\":{\"outlinewidth\":0,\"ticks\":\"\"}}],\"contour\":[{\"type\":\"contour\",\"colorbar\":{\"outlinewidth\":0,\"ticks\":\"\"},\"colorscale\":[[0.0,\"#0d0887\"],[0.1111111111111111,\"#46039f\"],[0.2222222222222222,\"#7201a8\"],[0.3333333333333333,\"#9c179e\"],[0.4444444444444444,\"#bd3786\"],[0.5555555555555556,\"#d8576b\"],[0.6666666666666666,\"#ed7953\"],[0.7777777777777778,\"#fb9f3a\"],[0.8888888888888888,\"#fdca26\"],[1.0,\"#f0f921\"]]}],\"surface\":[{\"type\":\"surface\",\"colorbar\":{\"outlinewidth\":0,\"ticks\":\"\"},\"colorscale\":[[0.0,\"#0d0887\"],[0.1111111111111111,\"#46039f\"],[0.2222222222222222,\"#7201a8\"],[0.3333333333333333,\"#9c179e\"],[0.4444444444444444,\"#bd3786\"],[0.5555555555555556,\"#d8576b\"],[0.6666666666666666,\"#ed7953\"],[0.7777777777777778,\"#fb9f3a\"],[0.8888888888888888,\"#fdca26\"],[1.0,\"#f0f921\"]]}],\"mesh3d\":[{\"type\":\"mesh3d\",\"colorbar\":{\"outlinewidth\":0,\"ticks\":\"\"}}],\"scatter\":[{\"fillpattern\":{\"fillmode\":\"overlay\",\"size\":10,\"solidity\":0.2},\"type\":\"scatter\"}],\"parcoords\":[{\"type\":\"parcoords\",\"line\":{\"colorbar\":{\"outlinewidth\":0,\"ticks\":\"\"}}}],\"scatterpolargl\":[{\"type\":\"scatterpolargl\",\"marker\":{\"colorbar\":{\"outlinewidth\":0,\"ticks\":\"\"}}}],\"bar\":[{\"error_x\":{\"color\":\"#2a3f5f\"},\"error_y\":{\"color\":\"#2a3f5f\"},\"marker\":{\"line\":{\"color\":\"#E5ECF6\",\"width\":0.5},\"pattern\":{\"fillmode\":\"overlay\",\"size\":10,\"solidity\":0.2}},\"type\":\"bar\"}],\"scattergeo\":[{\"type\":\"scattergeo\",\"marker\":{\"colorbar\":{\"outlinewidth\":0,\"ticks\":\"\"}}}],\"scatterpolar\":[{\"type\":\"scatterpolar\",\"marker\":{\"colorbar\":{\"outlinewidth\":0,\"ticks\":\"\"}}}],\"histogram\":[{\"marker\":{\"pattern\":{\"fillmode\":\"overlay\",\"size\":10,\"solidity\":0.2}},\"type\":\"histogram\"}],\"scattergl\":[{\"type\":\"scattergl\",\"marker\":{\"colorbar\":{\"outlinewidth\":0,\"ticks\":\"\"}}}],\"scatter3d\":[{\"type\":\"scatter3d\",\"line\":{\"colorbar\":{\"outlinewidth\":0,\"ticks\":\"\"}},\"marker\":{\"colorbar\":{\"outlinewidth\":0,\"ticks\":\"\"}}}],\"scattermapbox\":[{\"type\":\"scattermapbox\",\"marker\":{\"colorbar\":{\"outlinewidth\":0,\"ticks\":\"\"}}}],\"scatterternary\":[{\"type\":\"scatterternary\",\"marker\":{\"colorbar\":{\"outlinewidth\":0,\"ticks\":\"\"}}}],\"scattercarpet\":[{\"type\":\"scattercarpet\",\"marker\":{\"colorbar\":{\"outlinewidth\":0,\"ticks\":\"\"}}}],\"carpet\":[{\"aaxis\":{\"endlinecolor\":\"#2a3f5f\",\"gridcolor\":\"white\",\"linecolor\":\"white\",\"minorgridcolor\":\"white\",\"startlinecolor\":\"#2a3f5f\"},\"baxis\":{\"endlinecolor\":\"#2a3f5f\",\"gridcolor\":\"white\",\"linecolor\":\"white\",\"minorgridcolor\":\"white\",\"startlinecolor\":\"#2a3f5f\"},\"type\":\"carpet\"}],\"table\":[{\"cells\":{\"fill\":{\"color\":\"#EBF0F8\"},\"line\":{\"color\":\"white\"}},\"header\":{\"fill\":{\"color\":\"#C8D4E3\"},\"line\":{\"color\":\"white\"}},\"type\":\"table\"}],\"barpolar\":[{\"marker\":{\"line\":{\"color\":\"#E5ECF6\",\"width\":0.5},\"pattern\":{\"fillmode\":\"overlay\",\"size\":10,\"solidity\":0.2}},\"type\":\"barpolar\"}],\"pie\":[{\"automargin\":true,\"type\":\"pie\"}]},\"layout\":{\"autotypenumbers\":\"strict\",\"colorway\":[\"#636efa\",\"#EF553B\",\"#00cc96\",\"#ab63fa\",\"#FFA15A\",\"#19d3f3\",\"#FF6692\",\"#B6E880\",\"#FF97FF\",\"#FECB52\"],\"font\":{\"color\":\"#2a3f5f\"},\"hovermode\":\"closest\",\"hoverlabel\":{\"align\":\"left\"},\"paper_bgcolor\":\"white\",\"plot_bgcolor\":\"#E5ECF6\",\"polar\":{\"bgcolor\":\"#E5ECF6\",\"angularaxis\":{\"gridcolor\":\"white\",\"linecolor\":\"white\",\"ticks\":\"\"},\"radialaxis\":{\"gridcolor\":\"white\",\"linecolor\":\"white\",\"ticks\":\"\"}},\"ternary\":{\"bgcolor\":\"#E5ECF6\",\"aaxis\":{\"gridcolor\":\"white\",\"linecolor\":\"white\",\"ticks\":\"\"},\"baxis\":{\"gridcolor\":\"white\",\"linecolor\":\"white\",\"ticks\":\"\"},\"caxis\":{\"gridcolor\":\"white\",\"linecolor\":\"white\",\"ticks\":\"\"}},\"coloraxis\":{\"colorbar\":{\"outlinewidth\":0,\"ticks\":\"\"}},\"colorscale\":{\"sequential\":[[0.0,\"#0d0887\"],[0.1111111111111111,\"#46039f\"],[0.2222222222222222,\"#7201a8\"],[0.3333333333333333,\"#9c179e\"],[0.4444444444444444,\"#bd3786\"],[0.5555555555555556,\"#d8576b\"],[0.6666666666666666,\"#ed7953\"],[0.7777777777777778,\"#fb9f3a\"],[0.8888888888888888,\"#fdca26\"],[1.0,\"#f0f921\"]],\"sequentialminus\":[[0.0,\"#0d0887\"],[0.1111111111111111,\"#46039f\"],[0.2222222222222222,\"#7201a8\"],[0.3333333333333333,\"#9c179e\"],[0.4444444444444444,\"#bd3786\"],[0.5555555555555556,\"#d8576b\"],[0.6666666666666666,\"#ed7953\"],[0.7777777777777778,\"#fb9f3a\"],[0.8888888888888888,\"#fdca26\"],[1.0,\"#f0f921\"]],\"diverging\":[[0,\"#8e0152\"],[0.1,\"#c51b7d\"],[0.2,\"#de77ae\"],[0.3,\"#f1b6da\"],[0.4,\"#fde0ef\"],[0.5,\"#f7f7f7\"],[0.6,\"#e6f5d0\"],[0.7,\"#b8e186\"],[0.8,\"#7fbc41\"],[0.9,\"#4d9221\"],[1,\"#276419\"]]},\"xaxis\":{\"gridcolor\":\"white\",\"linecolor\":\"white\",\"ticks\":\"\",\"title\":{\"standoff\":15},\"zerolinecolor\":\"white\",\"automargin\":true,\"zerolinewidth\":2},\"yaxis\":{\"gridcolor\":\"white\",\"linecolor\":\"white\",\"ticks\":\"\",\"title\":{\"standoff\":15},\"zerolinecolor\":\"white\",\"automargin\":true,\"zerolinewidth\":2},\"scene\":{\"xaxis\":{\"backgroundcolor\":\"#E5ECF6\",\"gridcolor\":\"white\",\"linecolor\":\"white\",\"showbackground\":true,\"ticks\":\"\",\"zerolinecolor\":\"white\",\"gridwidth\":2},\"yaxis\":{\"backgroundcolor\":\"#E5ECF6\",\"gridcolor\":\"white\",\"linecolor\":\"white\",\"showbackground\":true,\"ticks\":\"\",\"zerolinecolor\":\"white\",\"gridwidth\":2},\"zaxis\":{\"backgroundcolor\":\"#E5ECF6\",\"gridcolor\":\"white\",\"linecolor\":\"white\",\"showbackground\":true,\"ticks\":\"\",\"zerolinecolor\":\"white\",\"gridwidth\":2}},\"shapedefaults\":{\"line\":{\"color\":\"#2a3f5f\"}},\"annotationdefaults\":{\"arrowcolor\":\"#2a3f5f\",\"arrowhead\":0,\"arrowwidth\":1},\"geo\":{\"bgcolor\":\"white\",\"landcolor\":\"#E5ECF6\",\"subunitcolor\":\"white\",\"showland\":true,\"showlakes\":true,\"lakecolor\":\"white\"},\"title\":{\"x\":0.05},\"mapbox\":{\"style\":\"light\"}}},\"xaxis\":{\"anchor\":\"y\",\"domain\":[0.0,1.0],\"title\":{\"text\":\"category\"}},\"yaxis\":{\"anchor\":\"x\",\"domain\":[0.0,1.0],\"title\":{\"text\":\"count\"}},\"legend\":{\"tracegroupgap\":0},\"title\":{\"text\":\"category counts\"},\"barmode\":\"relative\"},                        {\"responsive\": true}                    ).then(function(){\n",
              "                            \n",
              "var gd = document.getElementById('26e7b17a-d1b2-4b77-8044-05b50176e2dc');\n",
              "var x = new MutationObserver(function (mutations, observer) {{\n",
              "        var display = window.getComputedStyle(gd).display;\n",
              "        if (!display || display === 'none') {{\n",
              "            console.log([gd, 'removed!']);\n",
              "            Plotly.purge(gd);\n",
              "            observer.disconnect();\n",
              "        }}\n",
              "}});\n",
              "\n",
              "// Listen for the removal of the full notebook cells\n",
              "var notebookContainer = gd.closest('#notebook-container');\n",
              "if (notebookContainer) {{\n",
              "    x.observe(notebookContainer, {childList: true});\n",
              "}}\n",
              "\n",
              "// Listen for the clearing of the current output cell\n",
              "var outputEl = gd.closest('.output');\n",
              "if (outputEl) {{\n",
              "    x.observe(outputEl, {childList: true});\n",
              "}}\n",
              "\n",
              "                        })                };                            </script>        </div>\n",
              "</body>\n",
              "</html>"
            ]
          },
          "metadata": {}
        }
      ]
    },
    {
      "cell_type": "markdown",
      "source": [
        "Q-6 CREATE A DataFrame AND ADD A NEW COLUMN BASED ON AN EXISTING COLUMN?"
      ],
      "metadata": {
        "id": "PtKqNXJyAsE3"
      }
    },
    {
      "cell_type": "code",
      "source": [
        "import pandas as pd\n",
        "df = pd.DataFrame('x',columns=['A' ,'B' ,'C'] , index = range(5))\n",
        "print(df)\n",
        "d = ['x' ,'x','x','x','x',]\n",
        "df['D']= d\n",
        "print(df)"
      ],
      "metadata": {
        "colab": {
          "base_uri": "https://localhost:8080/"
        },
        "id": "aFSE1_nm5UQi",
        "outputId": "35db0ccf-9fac-4ce2-b414-71223e3d1ee7"
      },
      "execution_count": 22,
      "outputs": [
        {
          "output_type": "stream",
          "name": "stdout",
          "text": [
            "   A  B  C\n",
            "0  x  x  x\n",
            "1  x  x  x\n",
            "2  x  x  x\n",
            "3  x  x  x\n",
            "4  x  x  x\n",
            "   A  B  C  D\n",
            "0  x  x  x  x\n",
            "1  x  x  x  x\n",
            "2  x  x  x  x\n",
            "3  x  x  x  x\n",
            "4  x  x  x  x\n"
          ]
        }
      ]
    },
    {
      "cell_type": "markdown",
      "source": [
        "Q-7 WRITE A PROGRAM TO PERFORM ELEMENT-WISE MULTIPLICATION OF TWO NUMPY ARRAYS?\n"
      ],
      "metadata": {
        "id": "2J5bOh2WA1BS"
      }
    },
    {
      "cell_type": "code",
      "source": [
        "import numpy as np\n",
        "a=np.array([[1,2],[3,4]])\n",
        "b=np.array([[5,6],[7,8]])\n",
        "array = np.multiply(a,b)\n",
        "print(array)"
      ],
      "metadata": {
        "colab": {
          "base_uri": "https://localhost:8080/"
        },
        "id": "xKaXvygA6ggW",
        "outputId": "c12af17b-7f1e-4284-8011-9a26a9c37aeb"
      },
      "execution_count": 23,
      "outputs": [
        {
          "output_type": "stream",
          "name": "stdout",
          "text": [
            "[[ 5 12]\n",
            " [21 32]]\n"
          ]
        }
      ]
    },
    {
      "cell_type": "markdown",
      "source": [
        "Q-8 CREATE A LINE PLOT WITH MULTIPLE LINES USING MATPLOTLIB?"
      ],
      "metadata": {
        "id": "lJ0G5EaVA_Cu"
      }
    },
    {
      "cell_type": "code",
      "source": [
        "import matplotlib.pyplot as plt\n",
        "plt.title('class marks in graph')\n",
        "plt.xlabel('subjects')\n",
        "plt.ylabel('marks')\n",
        "x = ['maths','physics','chemistry']\n",
        "y1 = [89,68,44]\n",
        "plt.plot(x,y1 , label = 'studentA')\n",
        "y2 = [65,95,86]\n",
        "plt.plot(x,y2, label = 'studentB')\n",
        "y3 = [88,45,73]\n",
        "plt.plot(x,y3, label= 'studentC')\n",
        "plt.legend()\n",
        "plt.show()"
      ],
      "metadata": {
        "colab": {
          "base_uri": "https://localhost:8080/",
          "height": 472
        },
        "id": "l-pJyr1q7MbW",
        "outputId": "5f476523-428f-4b81-d2bd-6e1cf416183d"
      },
      "execution_count": 27,
      "outputs": [
        {
          "output_type": "display_data",
          "data": {
            "text/plain": [
              "<Figure size 640x480 with 1 Axes>"
            ],
            "image/png": "[encoded data removed]"
          },
          "metadata": {}
        }
      ]
    },
    {
      "cell_type": "markdown",
      "source": [
        "Q-9 GENERATE A PANDAS DataFrame AND FILTER ROWS WHERE A COLUMN VALUE IS GREATER THAN A THRESHOLD?"
      ],
      "metadata": {
        "id": "qe1v6nc9BGtm"
      }
    },
    {
      "cell_type": "code",
      "source": [
        "import pandas as pd\n",
        "data= {'Name': ['alice','bob','charlie'],\n",
        "       'score': [85,42,90]}\n",
        "df = pd.DataFrame(data)\n",
        "filtered_df = df[df['score'] > threshold ]\n",
        "print(\"original DataFrame\")\n",
        "print(df)\n",
        "print(\"\\nFiltered Dataframe:\")\n",
        "print(filtered_df)"
      ],
      "metadata": {
        "colab": {
          "base_uri": "https://localhost:8080/"
        },
        "id": "kx-aPG38AHal",
        "outputId": "48440dd4-9a5c-417b-b3fd-4fc00a8c1bff"
      },
      "execution_count": 54,
      "outputs": [
        {
          "output_type": "stream",
          "name": "stdout",
          "text": [
            "original DataFrame\n",
            "      Name  score\n",
            "0    alice     85\n",
            "1      bob     42\n",
            "2  charlie     90\n",
            "\n",
            "Filtered Dataframe:\n",
            "      Name  score\n",
            "0    alice     85\n",
            "2  charlie     90\n"
          ]
        }
      ]
    },
    {
      "cell_type": "markdown",
      "source": [
        "Q-10 CREATE A HISTOGRAM USING SEABORN TO VISUALIZE A DISTRIBUTION?"
      ],
      "metadata": {
        "id": "cvDEGpMfBV3D"
      }
    },
    {
      "cell_type": "code",
      "source": [
        "import seaborn as sys"
      ],
      "metadata": {
        "id": "9nyCF-A7BCsc"
      },
      "execution_count": 33,
      "outputs": []
    },
    {
      "cell_type": "code",
      "source": [
        "import matplotlib.pyplot as plt\n",
        "\n",
        "data = np.random.randn(1000)\n",
        "sns.histplot(data,bins=30,kde=True ,color='skyblue')\n",
        "plt.title('distribution of random data')\n",
        "plt.xlabel(\"value\")\n",
        "plt.ylabel(\"frequency\")\n",
        "plt.show()"
      ],
      "metadata": {
        "colab": {
          "base_uri": "https://localhost:8080/",
          "height": 472
        },
        "id": "luoVyxfdIseJ",
        "outputId": "be235cf1-e876-465c-9ab3-589408df64bb"
      },
      "execution_count": 46,
      "outputs": [
        {
          "output_type": "display_data",
          "data": {
            "text/plain": [
              "<Figure size 640x480 with 1 Axes>"
            ],
            "image/png": "[encoded data removed]"
          },
          "metadata": {}
        }
      ]
    },
    {
      "cell_type": "markdown",
      "source": [
        "Q-11 PERFORM MATRIX MULTIPLICATION USING NUMPY?"
      ],
      "metadata": {
        "id": "QxKeo7L1BeJS"
      }
    },
    {
      "cell_type": "code",
      "source": [
        "import numpy as np\n",
        "A1 = np.array([[2,0] ,[1,3]])\n",
        "B1 = np.array([[1,4],[2,3]])\n",
        "C1 = np.dot(A1,B1)\n",
        "print(C1)"
      ],
      "metadata": {
        "colab": {
          "base_uri": "https://localhost:8080/"
        },
        "id": "gFHqW3pKB_xk",
        "outputId": "4cd37886-44bd-43c9-bce4-1089c3d25273"
      },
      "execution_count": 36,
      "outputs": [
        {
          "output_type": "stream",
          "name": "stdout",
          "text": [
            "[[ 2  8]\n",
            " [ 7 13]]\n"
          ]
        }
      ]
    },
    {
      "cell_type": "markdown",
      "source": [
        "Q-12 USE PANDAS TO LOAD A CVS FILE AND DISPLAY ITS FIRST 5 ROW?"
      ],
      "metadata": {
        "id": "7O8y-FyHBj0h"
      }
    },
    {
      "cell_type": "code",
      "source": [
        "import pandas as pd\n",
        "data = pd.read_cvs('data\\\\WeatherData.cvs')\n",
        "data.head()"
      ],
      "metadata": {
        "colab": {
          "base_uri": "https://localhost:8080/",
          "height": 173
        },
        "id": "a7KYMcr7CvAL",
        "outputId": "4a9e5479-0589-4b0c-f758-9f2c07440bc0"
      },
      "execution_count": 38,
      "outputs": [
        {
          "output_type": "error",
          "ename": "AttributeError",
          "evalue": "module 'pandas' has no attribute 'read_cvs'",
          "traceback": [
            "\u001b[0;31m---------------------------------------------------------------------------\u001b[0m",
            "\u001b[0;31mAttributeError\u001b[0m                            Traceback (most recent call last)",
            "\u001b[0;32m<ipython-input-38-3032091202>\u001b[0m in \u001b[0;36m<cell line: 0>\u001b[0;34m()\u001b[0m\n\u001b[1;32m      1\u001b[0m \u001b[0;32mimport\u001b[0m \u001b[0mpandas\u001b[0m \u001b[0;32mas\u001b[0m \u001b[0mpd\u001b[0m\u001b[0;34m\u001b[0m\u001b[0;34m\u001b[0m\u001b[0m\n\u001b[0;32m----> 2\u001b[0;31m \u001b[0mdata\u001b[0m \u001b[0;34m=\u001b[0m \u001b[0mpd\u001b[0m\u001b[0;34m.\u001b[0m\u001b[0mread_cvs\u001b[0m\u001b[0;34m(\u001b[0m\u001b[0;34m'data\\\\WeatherData.cvs'\u001b[0m\u001b[0;34m)\u001b[0m\u001b[0;34m\u001b[0m\u001b[0;34m\u001b[0m\u001b[0m\n\u001b[0m\u001b[1;32m      3\u001b[0m \u001b[0mdata\u001b[0m\u001b[0;34m.\u001b[0m\u001b[0mhead\u001b[0m\u001b[0;34m(\u001b[0m\u001b[0;34m)\u001b[0m\u001b[0;34m\u001b[0m\u001b[0;34m\u001b[0m\u001b[0m\n",
            "\u001b[0;31mAttributeError\u001b[0m: module 'pandas' has no attribute 'read_cvs'"
          ]
        }
      ]
    },
    {
      "cell_type": "markdown",
      "source": [
        "Q-13 CREATE A 3D SCATTER PLOT USING PLOTLY?"
      ],
      "metadata": {
        "id": "X1KAXAmaBsGN"
      }
    },
    {
      "cell_type": "code",
      "source": [
        "import plotly.graph_objects as go\n",
        "import numpy as np\n",
        "np.random.seed(42)\n",
        "x = np.random.randn(50)\n",
        "y = np.random.randn(50)\n",
        "z = np.random.randn(50)\n",
        "\n",
        "\n",
        "fig = go.Figure(data=[go.Scatter3d(\n",
        "    x = x,\n",
        "    y = y,\n",
        "    z = z,\n",
        "    mode=\"markers\",\n",
        "    marker=dict(\n",
        "        size=5,\n",
        "        color=z,\n",
        "        colorscale='Virdis',\n",
        "        opacity=0.8\n",
        "  )\n",
        " ) ])\n",
        "fig.update_layout(title='3D scatter plot' , scene = dict(xaxis_title='X' ,yaxis_title='Y' ,zaxis_title='Z'))\n",
        "fig.show()"
      ],
      "metadata": {
        "colab": {
          "base_uri": "https://localhost:8080/",
          "height": 843
        },
        "id": "l7NJUNUNK7xi",
        "outputId": "d45decdf-22f6-40d6-d40d-313a776093b1"
      },
      "execution_count": 56,
      "outputs": [
        {
          "output_type": "error",
          "ename": "ValueError",
          "evalue": "\n    Invalid value of type 'builtins.str' received for the 'colorscale' property of scatter3d.marker\n        Received value: 'Virdis'\n\n    The 'colorscale' property is a colorscale and may be\n    specified as:\n      - A list of colors that will be spaced evenly to create the colorscale.\n        Many predefined colorscale lists are included in the sequential, diverging,\n        and cyclical modules in the plotly.colors package.\n      - A list of 2-element lists where the first element is the\n        normalized color level value (starting at 0 and ending at 1),\n        and the second item is a valid color string.\n        (e.g. [[0, 'green'], [0.5, 'red'], [1.0, 'rgb(0, 0, 255)']])\n      - One of the following named colorscales:\n            ['aggrnyl', 'agsunset', 'algae', 'amp', 'armyrose', 'balance',\n             'blackbody', 'bluered', 'blues', 'blugrn', 'bluyl', 'brbg',\n             'brwnyl', 'bugn', 'bupu', 'burg', 'burgyl', 'cividis', 'curl',\n             'darkmint', 'deep', 'delta', 'dense', 'earth', 'edge', 'electric',\n             'emrld', 'fall', 'geyser', 'gnbu', 'gray', 'greens', 'greys',\n             'haline', 'hot', 'hsv', 'ice', 'icefire', 'inferno', 'jet',\n             'magenta', 'magma', 'matter', 'mint', 'mrybm', 'mygbm', 'oranges',\n             'orrd', 'oryel', 'oxy', 'peach', 'phase', 'picnic', 'pinkyl',\n             'piyg', 'plasma', 'plotly3', 'portland', 'prgn', 'pubu', 'pubugn',\n             'puor', 'purd', 'purp', 'purples', 'purpor', 'rainbow', 'rdbu',\n             'rdgy', 'rdpu', 'rdylbu', 'rdylgn', 'redor', 'reds', 'solar',\n             'spectral', 'speed', 'sunset', 'sunsetdark', 'teal', 'tealgrn',\n             'tealrose', 'tempo', 'temps', 'thermal', 'tropic', 'turbid',\n             'turbo', 'twilight', 'viridis', 'ylgn', 'ylgnbu', 'ylorbr',\n             'ylorrd'].\n        Appending '_r' to a named colorscale reverses it.\n",
          "traceback": [
            "\u001b[0;31m---------------------------------------------------------------------------\u001b[0m",
            "\u001b[0;31mValueError\u001b[0m                                Traceback (most recent call last)",
            "\u001b[0;32m<ipython-input-56-1643038377>\u001b[0m in \u001b[0;36m<cell line: 0>\u001b[0;34m()\u001b[0m\n\u001b[1;32m      7\u001b[0m \u001b[0;34m\u001b[0m\u001b[0m\n\u001b[1;32m      8\u001b[0m \u001b[0;34m\u001b[0m\u001b[0m\n\u001b[0;32m----> 9\u001b[0;31m fig = go.Figure(data=[go.Scatter3d(\n\u001b[0m\u001b[1;32m     10\u001b[0m     \u001b[0mx\u001b[0m \u001b[0;34m=\u001b[0m \u001b[0mx\u001b[0m\u001b[0;34m,\u001b[0m\u001b[0;34m\u001b[0m\u001b[0;34m\u001b[0m\u001b[0m\n\u001b[1;32m     11\u001b[0m     \u001b[0my\u001b[0m \u001b[0;34m=\u001b[0m \u001b[0my\u001b[0m\u001b[0;34m,\u001b[0m\u001b[0;34m\u001b[0m\u001b[0;34m\u001b[0m\u001b[0m\n",
            "\u001b[0;32m/usr/local/lib/python3.11/dist-packages/plotly/graph_objs/_scatter3d.py\u001b[0m in \u001b[0;36m__init__\u001b[0;34m(self, arg, connectgaps, customdata, customdatasrc, error_x, error_y, error_z, hoverinfo, hoverinfosrc, hoverlabel, hovertemplate, hovertemplatesrc, hovertext, hovertextsrc, ids, idssrc, legend, legendgroup, legendgrouptitle, legendrank, legendwidth, line, marker, meta, metasrc, mode, name, opacity, projection, scene, showlegend, stream, surfaceaxis, surfacecolor, text, textfont, textposition, textpositionsrc, textsrc, texttemplate, texttemplatesrc, uid, uirevision, visible, x, xcalendar, xhoverformat, xsrc, y, ycalendar, yhoverformat, ysrc, z, zcalendar, zhoverformat, zsrc, **kwargs)\u001b[0m\n\u001b[1;32m   2695\u001b[0m         \u001b[0m_v\u001b[0m \u001b[0;34m=\u001b[0m \u001b[0mmarker\u001b[0m \u001b[0;32mif\u001b[0m \u001b[0mmarker\u001b[0m \u001b[0;32mis\u001b[0m \u001b[0;32mnot\u001b[0m \u001b[0;32mNone\u001b[0m \u001b[0;32melse\u001b[0m \u001b[0m_v\u001b[0m\u001b[0;34m\u001b[0m\u001b[0;34m\u001b[0m\u001b[0m\n\u001b[1;32m   2696\u001b[0m         \u001b[0;32mif\u001b[0m \u001b[0m_v\u001b[0m \u001b[0;32mis\u001b[0m \u001b[0;32mnot\u001b[0m \u001b[0;32mNone\u001b[0m\u001b[0;34m:\u001b[0m\u001b[0;34m\u001b[0m\u001b[0;34m\u001b[0m\u001b[0m\n\u001b[0;32m-> 2697\u001b[0;31m             \u001b[0mself\u001b[0m\u001b[0;34m[\u001b[0m\u001b[0;34m\"marker\"\u001b[0m\u001b[0;34m]\u001b[0m \u001b[0;34m=\u001b[0m \u001b[0m_v\u001b[0m\u001b[0;34m\u001b[0m\u001b[0;34m\u001b[0m\u001b[0m\n\u001b[0m\u001b[1;32m   2698\u001b[0m         \u001b[0m_v\u001b[0m \u001b[0;34m=\u001b[0m \u001b[0marg\u001b[0m\u001b[0;34m.\u001b[0m\u001b[0mpop\u001b[0m\u001b[0;34m(\u001b[0m\u001b[0;34m\"meta\"\u001b[0m\u001b[0;34m,\u001b[0m \u001b[0;32mNone\u001b[0m\u001b[0;34m)\u001b[0m\u001b[0;34m\u001b[0m\u001b[0;34m\u001b[0m\u001b[0m\n\u001b[1;32m   2699\u001b[0m         \u001b[0m_v\u001b[0m \u001b[0;34m=\u001b[0m \u001b[0mmeta\u001b[0m \u001b[0;32mif\u001b[0m \u001b[0mmeta\u001b[0m \u001b[0;32mis\u001b[0m \u001b[0;32mnot\u001b[0m \u001b[0;32mNone\u001b[0m \u001b[0;32melse\u001b[0m \u001b[0m_v\u001b[0m\u001b[0;34m\u001b[0m\u001b[0;34m\u001b[0m\u001b[0m\n",
            "\u001b[0;32m/usr/local/lib/python3.11/dist-packages/plotly/basedatatypes.py\u001b[0m in \u001b[0;36m__setitem__\u001b[0;34m(self, prop, value)\u001b[0m\n\u001b[1;32m   4858\u001b[0m                 \u001b[0;31m# ### Handle compound property ###\u001b[0m\u001b[0;34m\u001b[0m\u001b[0;34m\u001b[0m\u001b[0m\n\u001b[1;32m   4859\u001b[0m                 \u001b[0;32mif\u001b[0m \u001b[0misinstance\u001b[0m\u001b[0;34m(\u001b[0m\u001b[0mvalidator\u001b[0m\u001b[0;34m,\u001b[0m \u001b[0mCompoundValidator\u001b[0m\u001b[0;34m)\u001b[0m\u001b[0;34m:\u001b[0m\u001b[0;34m\u001b[0m\u001b[0;34m\u001b[0m\u001b[0m\n\u001b[0;32m-> 4860\u001b[0;31m                     \u001b[0mself\u001b[0m\u001b[0;34m.\u001b[0m\u001b[0m_set_compound_prop\u001b[0m\u001b[0;34m(\u001b[0m\u001b[0mprop\u001b[0m\u001b[0;34m,\u001b[0m \u001b[0mvalue\u001b[0m\u001b[0;34m)\u001b[0m\u001b[0;34m\u001b[0m\u001b[0;34m\u001b[0m\u001b[0m\n\u001b[0m\u001b[1;32m   4861\u001b[0m \u001b[0;34m\u001b[0m\u001b[0m\n\u001b[1;32m   4862\u001b[0m                 \u001b[0;31m# ### Handle compound array property ###\u001b[0m\u001b[0;34m\u001b[0m\u001b[0;34m\u001b[0m\u001b[0m\n",
            "\u001b[0;32m/usr/local/lib/python3.11/dist-packages/plotly/basedatatypes.py\u001b[0m in \u001b[0;36m_set_compound_prop\u001b[0;34m(self, prop, val)\u001b[0m\n\u001b[1;32m   5269\u001b[0m         \u001b[0;31m# ------------\u001b[0m\u001b[0;34m\u001b[0m\u001b[0;34m\u001b[0m\u001b[0m\n\u001b[1;32m   5270\u001b[0m         \u001b[0mvalidator\u001b[0m \u001b[0;34m=\u001b[0m \u001b[0mself\u001b[0m\u001b[0;34m.\u001b[0m\u001b[0m_get_validator\u001b[0m\u001b[0;34m(\u001b[0m\u001b[0mprop\u001b[0m\u001b[0;34m)\u001b[0m\u001b[0;34m\u001b[0m\u001b[0;34m\u001b[0m\u001b[0m\n\u001b[0;32m-> 5271\u001b[0;31m         \u001b[0mval\u001b[0m \u001b[0;34m=\u001b[0m \u001b[0mvalidator\u001b[0m\u001b[0;34m.\u001b[0m\u001b[0mvalidate_coerce\u001b[0m\u001b[0;34m(\u001b[0m\u001b[0mval\u001b[0m\u001b[0;34m,\u001b[0m \u001b[0mskip_invalid\u001b[0m\u001b[0;34m=\u001b[0m\u001b[0mself\u001b[0m\u001b[0;34m.\u001b[0m\u001b[0m_skip_invalid\u001b[0m\u001b[0;34m)\u001b[0m\u001b[0;34m\u001b[0m\u001b[0;34m\u001b[0m\u001b[0m\n\u001b[0m\u001b[1;32m   5272\u001b[0m \u001b[0;34m\u001b[0m\u001b[0m\n\u001b[1;32m   5273\u001b[0m         \u001b[0;31m# Save deep copies of current and new states\u001b[0m\u001b[0;34m\u001b[0m\u001b[0;34m\u001b[0m\u001b[0m\n",
            "\u001b[0;32m/usr/local/lib/python3.11/dist-packages/_plotly_utils/basevalidators.py\u001b[0m in \u001b[0;36mvalidate_coerce\u001b[0;34m(self, v, skip_invalid, _validate)\u001b[0m\n\u001b[1;32m   2510\u001b[0m \u001b[0;34m\u001b[0m\u001b[0m\n\u001b[1;32m   2511\u001b[0m         \u001b[0;32melif\u001b[0m \u001b[0misinstance\u001b[0m\u001b[0;34m(\u001b[0m\u001b[0mv\u001b[0m\u001b[0;34m,\u001b[0m \u001b[0mdict\u001b[0m\u001b[0;34m)\u001b[0m\u001b[0;34m:\u001b[0m\u001b[0;34m\u001b[0m\u001b[0;34m\u001b[0m\u001b[0m\n\u001b[0;32m-> 2512\u001b[0;31m             \u001b[0mv\u001b[0m \u001b[0;34m=\u001b[0m \u001b[0mself\u001b[0m\u001b[0;34m.\u001b[0m\u001b[0mdata_class\u001b[0m\u001b[0;34m(\u001b[0m\u001b[0mv\u001b[0m\u001b[0;34m,\u001b[0m \u001b[0mskip_invalid\u001b[0m\u001b[0;34m=\u001b[0m\u001b[0mskip_invalid\u001b[0m\u001b[0;34m,\u001b[0m \u001b[0m_validate\u001b[0m\u001b[0;34m=\u001b[0m\u001b[0m_validate\u001b[0m\u001b[0;34m)\u001b[0m\u001b[0;34m\u001b[0m\u001b[0;34m\u001b[0m\u001b[0m\n\u001b[0m\u001b[1;32m   2513\u001b[0m \u001b[0;34m\u001b[0m\u001b[0m\n\u001b[1;32m   2514\u001b[0m         \u001b[0;32melif\u001b[0m \u001b[0misinstance\u001b[0m\u001b[0;34m(\u001b[0m\u001b[0mv\u001b[0m\u001b[0;34m,\u001b[0m \u001b[0mself\u001b[0m\u001b[0;34m.\u001b[0m\u001b[0mdata_class\u001b[0m\u001b[0;34m)\u001b[0m\u001b[0;34m:\u001b[0m\u001b[0;34m\u001b[0m\u001b[0;34m\u001b[0m\u001b[0m\n",
            "\u001b[0;32m/usr/local/lib/python3.11/dist-packages/plotly/graph_objs/scatter3d/_marker.py\u001b[0m in \u001b[0;36m__init__\u001b[0;34m(self, arg, autocolorscale, cauto, cmax, cmid, cmin, color, coloraxis, colorbar, colorscale, colorsrc, line, opacity, reversescale, showscale, size, sizemin, sizemode, sizeref, sizesrc, symbol, symbolsrc, **kwargs)\u001b[0m\n\u001b[1;32m   1280\u001b[0m         \u001b[0m_v\u001b[0m \u001b[0;34m=\u001b[0m \u001b[0mcolorscale\u001b[0m \u001b[0;32mif\u001b[0m \u001b[0mcolorscale\u001b[0m \u001b[0;32mis\u001b[0m \u001b[0;32mnot\u001b[0m \u001b[0;32mNone\u001b[0m \u001b[0;32melse\u001b[0m \u001b[0m_v\u001b[0m\u001b[0;34m\u001b[0m\u001b[0;34m\u001b[0m\u001b[0m\n\u001b[1;32m   1281\u001b[0m         \u001b[0;32mif\u001b[0m \u001b[0m_v\u001b[0m \u001b[0;32mis\u001b[0m \u001b[0;32mnot\u001b[0m \u001b[0;32mNone\u001b[0m\u001b[0;34m:\u001b[0m\u001b[0;34m\u001b[0m\u001b[0;34m\u001b[0m\u001b[0m\n\u001b[0;32m-> 1282\u001b[0;31m             \u001b[0mself\u001b[0m\u001b[0;34m[\u001b[0m\u001b[0;34m\"colorscale\"\u001b[0m\u001b[0;34m]\u001b[0m \u001b[0;34m=\u001b[0m \u001b[0m_v\u001b[0m\u001b[0;34m\u001b[0m\u001b[0;34m\u001b[0m\u001b[0m\n\u001b[0m\u001b[1;32m   1283\u001b[0m         \u001b[0m_v\u001b[0m \u001b[0;34m=\u001b[0m \u001b[0marg\u001b[0m\u001b[0;34m.\u001b[0m\u001b[0mpop\u001b[0m\u001b[0;34m(\u001b[0m\u001b[0;34m\"colorsrc\"\u001b[0m\u001b[0;34m,\u001b[0m \u001b[0;32mNone\u001b[0m\u001b[0;34m)\u001b[0m\u001b[0;34m\u001b[0m\u001b[0;34m\u001b[0m\u001b[0m\n\u001b[1;32m   1284\u001b[0m         \u001b[0m_v\u001b[0m \u001b[0;34m=\u001b[0m \u001b[0mcolorsrc\u001b[0m \u001b[0;32mif\u001b[0m \u001b[0mcolorsrc\u001b[0m \u001b[0;32mis\u001b[0m \u001b[0;32mnot\u001b[0m \u001b[0;32mNone\u001b[0m \u001b[0;32melse\u001b[0m \u001b[0m_v\u001b[0m\u001b[0;34m\u001b[0m\u001b[0;34m\u001b[0m\u001b[0m\n",
            "\u001b[0;32m/usr/local/lib/python3.11/dist-packages/plotly/basedatatypes.py\u001b[0m in \u001b[0;36m__setitem__\u001b[0;34m(self, prop, value)\u001b[0m\n\u001b[1;32m   4866\u001b[0m                 \u001b[0;31m# ### Handle simple property ###\u001b[0m\u001b[0;34m\u001b[0m\u001b[0;34m\u001b[0m\u001b[0m\n\u001b[1;32m   4867\u001b[0m                 \u001b[0;32melse\u001b[0m\u001b[0;34m:\u001b[0m\u001b[0;34m\u001b[0m\u001b[0;34m\u001b[0m\u001b[0m\n\u001b[0;32m-> 4868\u001b[0;31m                     \u001b[0mself\u001b[0m\u001b[0;34m.\u001b[0m\u001b[0m_set_prop\u001b[0m\u001b[0;34m(\u001b[0m\u001b[0mprop\u001b[0m\u001b[0;34m,\u001b[0m \u001b[0mvalue\u001b[0m\u001b[0;34m)\u001b[0m\u001b[0;34m\u001b[0m\u001b[0;34m\u001b[0m\u001b[0m\n\u001b[0m\u001b[1;32m   4869\u001b[0m             \u001b[0;32melse\u001b[0m\u001b[0;34m:\u001b[0m\u001b[0;34m\u001b[0m\u001b[0;34m\u001b[0m\u001b[0m\n\u001b[1;32m   4870\u001b[0m                 \u001b[0;31m# Make sure properties dict is initialized\u001b[0m\u001b[0;34m\u001b[0m\u001b[0;34m\u001b[0m\u001b[0m\n",
            "\u001b[0;32m/usr/local/lib/python3.11/dist-packages/plotly/basedatatypes.py\u001b[0m in \u001b[0;36m_set_prop\u001b[0;34m(self, prop, val)\u001b[0m\n\u001b[1;32m   5210\u001b[0m                 \u001b[0;32mreturn\u001b[0m\u001b[0;34m\u001b[0m\u001b[0;34m\u001b[0m\u001b[0m\n\u001b[1;32m   5211\u001b[0m             \u001b[0;32melse\u001b[0m\u001b[0;34m:\u001b[0m\u001b[0;34m\u001b[0m\u001b[0;34m\u001b[0m\u001b[0m\n\u001b[0;32m-> 5212\u001b[0;31m                 \u001b[0;32mraise\u001b[0m \u001b[0merr\u001b[0m\u001b[0;34m\u001b[0m\u001b[0;34m\u001b[0m\u001b[0m\n\u001b[0m\u001b[1;32m   5213\u001b[0m \u001b[0;34m\u001b[0m\u001b[0m\n\u001b[1;32m   5214\u001b[0m         \u001b[0;31m# val is None\u001b[0m\u001b[0;34m\u001b[0m\u001b[0;34m\u001b[0m\u001b[0m\n",
            "\u001b[0;32m/usr/local/lib/python3.11/dist-packages/plotly/basedatatypes.py\u001b[0m in \u001b[0;36m_set_prop\u001b[0;34m(self, prop, val)\u001b[0m\n\u001b[1;32m   5205\u001b[0m \u001b[0;34m\u001b[0m\u001b[0m\n\u001b[1;32m   5206\u001b[0m         \u001b[0;32mtry\u001b[0m\u001b[0;34m:\u001b[0m\u001b[0;34m\u001b[0m\u001b[0;34m\u001b[0m\u001b[0m\n\u001b[0;32m-> 5207\u001b[0;31m             \u001b[0mval\u001b[0m \u001b[0;34m=\u001b[0m \u001b[0mvalidator\u001b[0m\u001b[0;34m.\u001b[0m\u001b[0mvalidate_coerce\u001b[0m\u001b[0;34m(\u001b[0m\u001b[0mval\u001b[0m\u001b[0;34m)\u001b[0m\u001b[0;34m\u001b[0m\u001b[0;34m\u001b[0m\u001b[0m\n\u001b[0m\u001b[1;32m   5208\u001b[0m         \u001b[0;32mexcept\u001b[0m \u001b[0mValueError\u001b[0m \u001b[0;32mas\u001b[0m \u001b[0merr\u001b[0m\u001b[0;34m:\u001b[0m\u001b[0;34m\u001b[0m\u001b[0;34m\u001b[0m\u001b[0m\n\u001b[1;32m   5209\u001b[0m             \u001b[0;32mif\u001b[0m \u001b[0mself\u001b[0m\u001b[0;34m.\u001b[0m\u001b[0m_skip_invalid\u001b[0m\u001b[0;34m:\u001b[0m\u001b[0;34m\u001b[0m\u001b[0;34m\u001b[0m\u001b[0m\n",
            "\u001b[0;32m/usr/local/lib/python3.11/dist-packages/_plotly_utils/basevalidators.py\u001b[0m in \u001b[0;36mvalidate_coerce\u001b[0;34m(self, v)\u001b[0m\n\u001b[1;32m   1677\u001b[0m \u001b[0;34m\u001b[0m\u001b[0m\n\u001b[1;32m   1678\u001b[0m         \u001b[0;32mif\u001b[0m \u001b[0;32mnot\u001b[0m \u001b[0mv_valid\u001b[0m\u001b[0;34m:\u001b[0m\u001b[0;34m\u001b[0m\u001b[0;34m\u001b[0m\u001b[0m\n\u001b[0;32m-> 1679\u001b[0;31m             \u001b[0mself\u001b[0m\u001b[0;34m.\u001b[0m\u001b[0mraise_invalid_val\u001b[0m\u001b[0;34m(\u001b[0m\u001b[0mv\u001b[0m\u001b[0;34m)\u001b[0m\u001b[0;34m\u001b[0m\u001b[0;34m\u001b[0m\u001b[0m\n\u001b[0m\u001b[1;32m   1680\u001b[0m \u001b[0;34m\u001b[0m\u001b[0m\n\u001b[1;32m   1681\u001b[0m         \u001b[0;32mreturn\u001b[0m \u001b[0mv\u001b[0m\u001b[0;34m\u001b[0m\u001b[0;34m\u001b[0m\u001b[0m\n",
            "\u001b[0;32m/usr/local/lib/python3.11/dist-packages/_plotly_utils/basevalidators.py\u001b[0m in \u001b[0;36mraise_invalid_val\u001b[0;34m(self, v, inds)\u001b[0m\n\u001b[1;32m    294\u001b[0m                 \u001b[0mname\u001b[0m \u001b[0;34m+=\u001b[0m \u001b[0;34m\"[\"\u001b[0m \u001b[0;34m+\u001b[0m \u001b[0mstr\u001b[0m\u001b[0;34m(\u001b[0m\u001b[0mi\u001b[0m\u001b[0;34m)\u001b[0m \u001b[0;34m+\u001b[0m \u001b[0;34m\"]\"\u001b[0m\u001b[0;34m\u001b[0m\u001b[0;34m\u001b[0m\u001b[0m\n\u001b[1;32m    295\u001b[0m \u001b[0;34m\u001b[0m\u001b[0m\n\u001b[0;32m--> 296\u001b[0;31m         raise ValueError(\n\u001b[0m\u001b[1;32m    297\u001b[0m             \"\"\"\n\u001b[1;32m    298\u001b[0m     \u001b[0mInvalid\u001b[0m \u001b[0mvalue\u001b[0m \u001b[0mof\u001b[0m \u001b[0mtype\u001b[0m \u001b[0;34m{\u001b[0m\u001b[0mtyp\u001b[0m\u001b[0;34m}\u001b[0m \u001b[0mreceived\u001b[0m \u001b[0;32mfor\u001b[0m \u001b[0mthe\u001b[0m \u001b[0;34m'{name}'\u001b[0m \u001b[0mproperty\u001b[0m \u001b[0mof\u001b[0m \u001b[0;34m{\u001b[0m\u001b[0mpname\u001b[0m\u001b[0;34m}\u001b[0m\u001b[0;34m\u001b[0m\u001b[0;34m\u001b[0m\u001b[0m\n",
            "\u001b[0;31mValueError\u001b[0m: \n    Invalid value of type 'builtins.str' received for the 'colorscale' property of scatter3d.marker\n        Received value: 'Virdis'\n\n    The 'colorscale' property is a colorscale and may be\n    specified as:\n      - A list of colors that will be spaced evenly to create the colorscale.\n        Many predefined colorscale lists are included in the sequential, diverging,\n        and cyclical modules in the plotly.colors package.\n      - A list of 2-element lists where the first element is the\n        normalized color level value (starting at 0 and ending at 1),\n        and the second item is a valid color string.\n        (e.g. [[0, 'green'], [0.5, 'red'], [1.0, 'rgb(0, 0, 255)']])\n      - One of the following named colorscales:\n            ['aggrnyl', 'agsunset', 'algae', 'amp', 'armyrose', 'balance',\n             'blackbody', 'bluered', 'blues', 'blugrn', 'bluyl', 'brbg',\n             'brwnyl', 'bugn', 'bupu', 'burg', 'burgyl', 'cividis', 'curl',\n             'darkmint', 'deep', 'delta', 'dense', 'earth', 'edge', 'electric',\n             'emrld', 'fall', 'geyser', 'gnbu', 'gray', 'greens', 'greys',\n             'haline', 'hot', 'hsv', 'ice', 'icefire', 'inferno', 'jet',\n             'magenta', 'magma', 'matter', 'mint', 'mrybm', 'mygbm', 'oranges',\n             'orrd', 'oryel', 'oxy', 'peach', 'phase', 'picnic', 'pinkyl',\n             'piyg', 'plasma', 'plotly3', 'portland', 'prgn', 'pubu', 'pubugn',\n             'puor', 'purd', 'purp', 'purples', 'purpor', 'rainbow', 'rdbu',\n             'rdgy', 'rdpu', 'rdylbu', 'rdylgn', 'redor', 'reds', 'solar',\n             'spectral', 'speed', 'sunset', 'sunsetdark', 'teal', 'tealgrn',\n             'tealrose', 'tempo', 'temps', 'thermal', 'tropic', 'turbid',\n             'turbo', 'twilight', 'viridis', 'ylgn', 'ylgnbu', 'ylorbr',\n             'ylorrd'].\n        Appending '_r' to a named colorscale reverses it.\n"
          ]
        }
      ]
    },
    {
      "cell_type": "code",
      "source": [],
      "metadata": {
        "id": "dU3qlwNARQDQ"
      },
      "execution_count": null,
      "outputs": []
    }
  ]
}